{
  "cells": [
    {
      "cell_type": "markdown",
      "id": "19a72a68-bce3-4f60-a181-c882cc012bc9",
      "metadata": {
        "id": "19a72a68-bce3-4f60-a181-c882cc012bc9"
      },
      "source": [
        "# Mistral Tokenizer"
      ]
    },
    {
      "cell_type": "code",
      "execution_count": null,
      "id": "ae73a051-45c4-4876-8b0e-e947b3267e99",
      "metadata": {
        "id": "ae73a051-45c4-4876-8b0e-e947b3267e99"
      },
      "outputs": [],
      "source": [
        "! pip install mistral-common"
      ]
    },
    {
      "cell_type": "code",
      "execution_count": null,
      "id": "ed997bda-93f7-435a-b529-e7a80c8dbff5",
      "metadata": {
        "id": "ed997bda-93f7-435a-b529-e7a80c8dbff5"
      },
      "outputs": [],
      "source": [
        "from mistral_common.protocol.instruct.messages import (\n",
        "    AssistantMessage,\n",
        "    UserMessage,\n",
        "    ToolMessage,\n",
        ")\n",
        "from mistral_common.tokens.tokenizers.mistral import MistralTokenizer\n",
        "from mistral_common.protocol.instruct.tool_calls import (\n",
        "    Function,\n",
        "    Tool,\n",
        "    ToolCall,\n",
        "    FunctionCall,\n",
        ")\n",
        "from mistral_common.protocol.instruct.request import ChatCompletionRequest"
      ]
    },
    {
      "cell_type": "markdown",
      "id": "1509ae4d-65c1-44d4-9c20-5a8113e9e903",
      "metadata": {
        "id": "1509ae4d-65c1-44d4-9c20-5a8113e9e903"
      },
      "source": [
        "## Load Mistral tokenizer\n",
        "\n",
        "We just released three versions of our tokenizer powering different sets of models.\n",
        "\n",
        "- v1: open-mistral-7b, open-mixtral-8x7b, mistral-embed\n",
        "- v2: mistral-small, mistral-large\n",
        "- v3: open-mixtral-8x22b\n",
        "\n",
        "Let's load v3:"
      ]
    },
    {
      "cell_type": "code",
      "execution_count": null,
      "id": "3ce845ff-230d-40f5-9665-889b90d9495e",
      "metadata": {
        "id": "3ce845ff-230d-40f5-9665-889b90d9495e"
      },
      "outputs": [],
      "source": [
        "tokenizer_v3 = MistralTokenizer.v3()\n",
        "\n",
        "# you can also load tokenizers using the model name\n",
        "# tokenizer_v3 = MistralTokenizer.from_model(\"open-mixtral-8x22b\")"
      ]
    },
    {
      "cell_type": "markdown",
      "id": "01305c40-ee56-4baf-b11d-e4c7011ab688",
      "metadata": {
        "id": "01305c40-ee56-4baf-b11d-e4c7011ab688"
      },
      "source": [
        "## Tokenize a list of messages"
      ]
    },
    {
      "cell_type": "code",
      "execution_count": null,
      "id": "0321e660-2a93-4943-a34d-02a70784d55a",
      "metadata": {
        "id": "0321e660-2a93-4943-a34d-02a70784d55a"
      },
      "outputs": [],
      "source": [
        "tokenized = tokenizer_v3.encode_chat_completion(\n",
        "    ChatCompletionRequest(\n",
        "        tools=[\n",
        "            Tool(\n",
        "                function=Function(\n",
        "                    name=\"get_current_weather\",\n",
        "                    description=\"Get the current weather\",\n",
        "                    parameters={\n",
        "                        \"type\": \"object\",\n",
        "                        \"properties\": {\n",
        "                            \"location\": {\n",
        "                                \"type\": \"string\",\n",
        "                                \"description\": \"The city and state, e.g. San Francisco, CA\",\n",
        "                            },\n",
        "                            \"format\": {\n",
        "                                \"type\": \"string\",\n",
        "                                \"enum\": [\"celsius\", \"fahrenheit\"],\n",
        "                                \"description\": \"The temperature unit to use. Infer this from the users location.\",\n",
        "                            },\n",
        "                        },\n",
        "                        \"required\": [\"location\", \"format\"],\n",
        "                    },\n",
        "                )\n",
        "            )\n",
        "        ],\n",
        "        messages=[\n",
        "            UserMessage(content=\"What's the weather like today in Paris\"),\n",
        "            AssistantMessage(\n",
        "                content=None,\n",
        "                tool_calls=[\n",
        "                    ToolCall(\n",
        "                        id=\"VvvODy9mT\",\n",
        "                        function=FunctionCall(\n",
        "                            name=\"get_current_weather\",\n",
        "                            arguments='{\"location\": \"Paris, France\", \"format\": \"celsius\"}',\n",
        "                        ),\n",
        "                    )\n",
        "                ],\n",
        "            ),\n",
        "            ToolMessage(\n",
        "                tool_call_id=\"VvvODy9mT\", name=\"get_current_weather\", content=\"22\"\n",
        "            ),\n",
        "            AssistantMessage(\n",
        "                content=\"The current temperature in Paris, France is 22 degrees Celsius.\",\n",
        "            ),\n",
        "            UserMessage(content=\"What's the weather like today in San Francisco\"),\n",
        "            AssistantMessage(\n",
        "                content=None,\n",
        "                tool_calls=[\n",
        "                    ToolCall(\n",
        "                        id=\"fAnpW3TEV\",\n",
        "                        function=FunctionCall(\n",
        "                            name=\"get_current_weather\",\n",
        "                            arguments='{\"location\": \"San Francisco\", \"format\": \"celsius\"}',\n",
        "                        ),\n",
        "                    )\n",
        "                ],\n",
        "            ),\n",
        "            ToolMessage(\n",
        "                tool_call_id=\"fAnpW3TEV\", name=\"get_current_weather\", content=\"20\"\n",
        "            ),\n",
        "        ],\n",
        "        model=\"test\",\n",
        "    )\n",
        ")"
      ]
    },
    {
      "cell_type": "code",
      "execution_count": null,
      "id": "0bd3fed6-6b74-4362-810f-a724d8a99697",
      "metadata": {
        "id": "0bd3fed6-6b74-4362-810f-a724d8a99697"
      },
      "outputs": [],
      "source": [
        "tokens, text = tokenized.tokens, tokenized.text"
      ]
    },
    {
      "cell_type": "code",
      "execution_count": null,
      "id": "dfb79cdd-bee9-419f-b646-eb868cb4155e",
      "metadata": {
        "id": "dfb79cdd-bee9-419f-b646-eb868cb4155e",
        "outputId": "edbd8543-9861-43b4-b5e8-d3ef795c2ae4"
      },
      "outputs": [
        {
          "data": {
            "text/plain": [
              "'<s>[INST] What\\'s the weather like today in Paris[/INST][TOOL_CALLS] [{\"name\": \"get_current_weather\", \"arguments\": {\"location\": \"Paris, France\", \"format\": \"celsius\"}, \"id\": \"VvvODy9mT\"}]</s>[TOOL_RESULTS] {\"call_id\": \"VvvODy9mT\", \"content\": 22}[/TOOL_RESULTS] The current temperature in Paris, France is 22 degrees Celsius.</s>[AVAILABLE_TOOLS] [{\"type\": \"function\", \"function\": {\"name\": \"get_current_weather\", \"description\": \"Get the current weather\", \"parameters\": {\"type\": \"object\", \"properties\": {\"location\": {\"type\": \"string\", \"description\": \"The city and state, e.g. San Francisco, CA\"}, \"format\": {\"type\": \"string\", \"enum\": [\"celsius\", \"fahrenheit\"], \"description\": \"The temperature unit to use. Infer this from the users location.\"}}, \"required\": [\"location\", \"format\"]}}}][/AVAILABLE_TOOLS][INST] What\\'s the weather like today in San Francisco[/INST][TOOL_CALLS] [{\"name\": \"get_current_weather\", \"arguments\": {\"location\": \"San Francisco\", \"format\": \"celsius\"}, \"id\": \"fAnpW3TEV\"}]</s>[TOOL_RESULTS] {\"call_id\": \"fAnpW3TEV\", \"content\": 20}[/TOOL_RESULTS]'"
            ]
          },
          "execution_count": 6,
          "metadata": {},
          "output_type": "execute_result"
        }
      ],
      "source": [
        "text"
      ]
    },
    {
      "cell_type": "code",
      "execution_count": null,
      "id": "aaa7136e-df9b-4be6-a68d-cd3608a9ada0",
      "metadata": {
        "id": "aaa7136e-df9b-4be6-a68d-cd3608a9ada0",
        "outputId": "afd3e6cc-fe08-4b42-c863-47769d48754e"
      },
      "outputs": [
        {
          "data": {
            "text/plain": [
              "302"
            ]
          },
          "execution_count": 8,
          "metadata": {},
          "output_type": "execute_result"
        }
      ],
      "source": [
        "len(tokens)"
      ]
    }
  ],
  "metadata": {
    "kernelspec": {
      "display_name": "Python 3 (ipykernel)",
      "language": "python",
      "name": "python3"
    },
    "language_info": {
      "codemirror_mode": {
        "name": "ipython",
        "version": 3
      },
      "file_extension": ".py",
      "mimetype": "text/x-python",
      "name": "python",
      "nbconvert_exporter": "python",
      "pygments_lexer": "ipython3",
      "version": "3.10.14"
    },
    "colab": {
      "provenance": []
    }
  },
  "nbformat": 4,
  "nbformat_minor": 5
}