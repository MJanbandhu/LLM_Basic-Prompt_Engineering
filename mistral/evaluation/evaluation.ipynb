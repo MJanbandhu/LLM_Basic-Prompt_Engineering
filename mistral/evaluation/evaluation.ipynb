{
  "cells": [
    {
      "cell_type": "markdown",
      "id": "2a737870-49c9-4285-b8a5-2d4e8b5e5db4",
      "metadata": {
        "id": "2a737870-49c9-4285-b8a5-2d4e8b5e5db4"
      },
      "source": [
        "# Evaluation Guide"
      ]
    },
    {
      "cell_type": "code",
      "execution_count": null,
      "id": "9746b03e-6b71-4927-ab60-1c9056711510",
      "metadata": {
        "id": "9746b03e-6b71-4927-ab60-1c9056711510"
      },
      "outputs": [],
      "source": [
        "! pip install mistralai evaluate"
      ]
    },
    {
      "cell_type": "code",
      "execution_count": null,
      "id": "f032c997-6764-4d46-8ca5-625b33d41640",
      "metadata": {
        "colab": {
          "base_uri": "https://localhost:8080/"
        },
        "id": "f032c997-6764-4d46-8ca5-625b33d41640",
        "outputId": "7e9a874b-cecb-481a-a47d-263ce7e1d0d3"
      },
      "outputs": [
        {
          "name": "stdout",
          "output_type": "stream",
          "text": [
            "Type your API Key··········\n"
          ]
        }
      ],
      "source": [
        "from mistralai import Mistral\n",
        "from getpass import getpass\n",
        "\n",
        "api_key= getpass(\"Type your API Key\")\n",
        "\n",
        "client = Mistral(api_key = api_key)"
      ]
    },
    {
      "cell_type": "markdown",
      "id": "5f501021-df7b-4cc7-b0d7-208d4644c85d",
      "metadata": {
        "id": "5f501021-df7b-4cc7-b0d7-208d4644c85d"
      },
      "source": [
        "## Example 1:  Information extraction benchmark with accuracy\n",
        "\n",
        "\n",
        "### Evaluation data"
      ]
    },
    {
      "cell_type": "code",
      "execution_count": null,
      "id": "d5501a3b-e070-4779-8534-da29aa0ef034",
      "metadata": {
        "id": "d5501a3b-e070-4779-8534-da29aa0ef034"
      },
      "outputs": [],
      "source": [
        "prompts = {\n",
        "    \"Johnson\": {\n",
        "        \"medical_notes\": \"A 60-year-old male patient, Mr. Johnson, presented with symptoms of increased thirst, frequent urination, fatigue, and unexplained weight loss. Upon evaluation, he was diagnosed with diabetes, confirmed by elevated blood sugar levels. Mr. Johnson's weight is 210 lbs. He has been prescribed Metformin to be taken twice daily with meals. It was noted during the consultation that the patient is a current smoker. \",\n",
        "        \"golden_answer\": {\n",
        "            \"age\": 60,\n",
        "            \"gender\": \"male\",\n",
        "            \"diagnosis\": \"diabetes\",\n",
        "            \"weight\": 210,\n",
        "            \"smoking\": \"yes\",\n",
        "        },\n",
        "    },\n",
        "    \"Smith\": {\n",
        "        \"medical_notes\": \"Mr. Smith, a 55-year-old male patient, presented with severe joint pain and stiffness in his knees and hands, along with swelling and limited range of motion. After a thorough examination and diagnostic tests, he was diagnosed with arthritis. It is important for Mr. Smith to maintain a healthy weight (currently at 150 lbs) and quit smoking, as these factors can exacerbate symptoms of arthritis and contribute to joint damage.\",\n",
        "        \"golden_answer\": {\n",
        "            \"age\": 55,\n",
        "            \"gender\": \"male\",\n",
        "            \"diagnosis\": \"arthritis\",\n",
        "            \"weight\": 150,\n",
        "            \"smoking\": \"yes\",\n",
        "        },\n",
        "    },\n",
        "}"
      ]
    },
    {
      "cell_type": "markdown",
      "id": "b4625b22-7de2-4c48-8ef1-7936ea222540",
      "metadata": {
        "id": "b4625b22-7de2-4c48-8ef1-7936ea222540"
      },
      "source": [
        "### How to evaluate?\n",
        "\n",
        "- Step 1: Define prompt template"
      ]
    },
    {
      "cell_type": "code",
      "execution_count": null,
      "id": "b49c7dd5-1f23-41cc-b864-d2a7da563acb",
      "metadata": {
        "id": "b49c7dd5-1f23-41cc-b864-d2a7da563acb"
      },
      "outputs": [],
      "source": [
        "def run_mistral(user_message, model=\"mistral-large-latest\"):\n",
        "    messages = [{\"role\": \"user\", \"content\": user_message}]\n",
        "    chat_response = client.chat.complete(\n",
        "        model=model,\n",
        "        messages=messages,\n",
        "        response_format={\"type\": \"json_object\"},\n",
        "    )\n",
        "    return chat_response.choices[0].message.content\n",
        "\n",
        "\n",
        "# define prompt template\n",
        "prompt_template = \"\"\"\n",
        "Extract information from the following medical notes:\n",
        "{medical_notes}\n",
        "\n",
        "Return json format with the following JSON schema:\n",
        "\n",
        "{{\n",
        "        \"age\": {{\n",
        "            \"type\": \"integer\"\n",
        "        }},\n",
        "        \"gender\": {{\n",
        "            \"type\": \"string\",\n",
        "            \"enum\": [\"male\", \"female\", \"other\"]\n",
        "        }},\n",
        "        \"diagnosis\": {{\n",
        "            \"type\": \"string\",\n",
        "            \"enum\": [\"migraine\", \"diabetes\", \"arthritis\", \"acne\", \"common cold\"]\n",
        "        }},\n",
        "        \"weight\": {{\n",
        "            \"type\": \"integer\"\n",
        "        }},\n",
        "        \"smoking\": {{\n",
        "            \"type\": \"string\",\n",
        "            \"enum\": [\"yes\", \"no\"]\n",
        "        }},\n",
        "\n",
        "}}\n",
        "\"\"\""
      ]
    },
    {
      "cell_type": "markdown",
      "id": "b5422a8e-feb7-48fe-81bc-9ccfe5a17193",
      "metadata": {
        "id": "b5422a8e-feb7-48fe-81bc-9ccfe5a17193"
      },
      "source": [
        "\n",
        "- Step 2: Define how we compare the model response with the golden answer"
      ]
    },
    {
      "cell_type": "code",
      "execution_count": null,
      "id": "366608c4-c783-4325-8e18-cd3a668a103f",
      "metadata": {
        "id": "366608c4-c783-4325-8e18-cd3a668a103f"
      },
      "outputs": [],
      "source": [
        "import json\n",
        "\n",
        "\n",
        "def compare_json_objects(obj1, obj2):\n",
        "    total_fields = 0\n",
        "    identical_fields = 0\n",
        "    common_keys = set(obj1.keys()) & set(obj2.keys())\n",
        "    for key in common_keys:\n",
        "        identical_fields += obj1[key] == obj2[key]\n",
        "    percentage_identical = (identical_fields / max(len(obj1.keys()), 1)) * 100\n",
        "    return percentage_identical"
      ]
    },
    {
      "cell_type": "markdown",
      "id": "d2714fcc-16e5-4bf6-9fe8-5387f806acf6",
      "metadata": {
        "id": "d2714fcc-16e5-4bf6-9fe8-5387f806acf6"
      },
      "source": [
        "- Step 3: Calculate accuracy rate across test cases"
      ]
    },
    {
      "cell_type": "code",
      "execution_count": null,
      "id": "04efe325-5a71-4dab-8521-989f9edd54dc",
      "metadata": {
        "colab": {
          "base_uri": "https://localhost:8080/"
        },
        "id": "04efe325-5a71-4dab-8521-989f9edd54dc",
        "outputId": "d5c0cbc2-8d3a-42c7-bb3e-6bca1d4081b7"
      },
      "outputs": [
        {
          "data": {
            "text/plain": [
              "100.0"
            ]
          },
          "execution_count": 8,
          "metadata": {},
          "output_type": "execute_result"
        }
      ],
      "source": [
        "accuracy_rates = []\n",
        "\n",
        "# for each test case\n",
        "for name in prompts:\n",
        "\n",
        "    # define user message\n",
        "    user_message = prompt_template.format(medical_notes=prompts[name][\"medical_notes\"])\n",
        "\n",
        "    # run LLM\n",
        "    response = json.loads(run_mistral(user_message))\n",
        "\n",
        "    # calculate accuracy rate for this test case\n",
        "    accuracy_rates.append(\n",
        "        compare_json_objects(response, prompts[name][\"golden_answer\"])\n",
        "    )\n",
        "\n",
        "# calculate accuracy rate across test cases\n",
        "sum(accuracy_rates) / len(accuracy_rates)"
      ]
    },
    {
      "cell_type": "markdown",
      "id": "92ea4e20-60a8-4ce7-b550-321123894988",
      "metadata": {
        "id": "92ea4e20-60a8-4ce7-b550-321123894988"
      },
      "source": [
        "## Example 2: evaluate code generation"
      ]
    },
    {
      "cell_type": "code",
      "execution_count": null,
      "id": "e8de41ed-1723-4a2d-97eb-8f467e024499",
      "metadata": {
        "id": "e8de41ed-1723-4a2d-97eb-8f467e024499"
      },
      "outputs": [],
      "source": [
        "def run_mistral(user_message, model=\"mistral-large-latest\"):\n",
        "    client = Mistral(api_key=api_key)\n",
        "    messages = [{\"role\":\"user\", \"content\": user_message}]\n",
        "    chat_response = client.chat.complete(\n",
        "        model=model,\n",
        "        messages=messages\n",
        "    )\n",
        "    return chat_response.choices[0].message.content\n",
        "\n",
        "# define prompt template\n",
        "python_prompts = {\n",
        "    \"sort_string\": {\n",
        "        \"prompt\": \"Write a python function to sort the given string.\",\n",
        "        \"test\": 'assert sort_string(\"data\") == \"aadt\"',\n",
        "    },\n",
        "    \"is_odd\": {\n",
        "        \"prompt\": \"Write a python function to check whether the given number is odd or not using bitwise operator.\",\n",
        "        \"test\": \"assert is_odd(5) == True\",\n",
        "    },\n",
        "}"
      ]
    },
    {
      "cell_type": "markdown",
      "id": "d1918c9f-6663-4a57-90c2-07b410f88315",
      "metadata": {
        "id": "d1918c9f-6663-4a57-90c2-07b410f88315"
      },
      "source": [
        "- Step 1: Define prompt template"
      ]
    },
    {
      "cell_type": "code",
      "execution_count": null,
      "id": "c56ea1b3-5a2e-4668-bf4e-bf9c76b6f721",
      "metadata": {
        "id": "c56ea1b3-5a2e-4668-bf4e-bf9c76b6f721"
      },
      "outputs": [],
      "source": [
        "prompt_template = \"\"\"Write a Python function to execute the following task: {task}\n",
        "Return only valid Python code. Do not give any explanation.\n",
        "Never start with ```python.\n",
        "Always start with def {name}(.\n",
        "\"\"\""
      ]
    },
    {
      "cell_type": "markdown",
      "id": "edb6c550-d620-4432-9caf-a1b6fa422c18",
      "metadata": {
        "id": "edb6c550-d620-4432-9caf-a1b6fa422c18"
      },
      "source": [
        "- Step 2: Decide how we evaluate the code generation"
      ]
    },
    {
      "cell_type": "code",
      "execution_count": null,
      "id": "de273b6d-0595-4ba2-99f1-688d8ecd1d47",
      "metadata": {
        "colab": {
          "base_uri": "https://localhost:8080/",
          "height": 81,
          "referenced_widgets": [
            "897c2480adcd41ed81d6b5398d07ddec",
            "8fafcb1df3a7458fa93476b21b56a835",
            "55a25246e1b04227964ec0788b8b4a25",
            "4ac76c090e2e4f7daee2e8f7a8e1a27e",
            "09e115f947134ed08096c3a4b2f7a494",
            "e82de0fb6ade4761976abe1e6247cba3",
            "2a0b538418c04fc7b5262a7152866625",
            "33784da3bd0b4c7084e7571a15e3774a",
            "2935eaa872804c28a3e8ef017ba1cb3d",
            "db9cb4d55adf4a56a165f713a1b14063",
            "3a7a56c8df224b4898313a821bb2f9dc",
            "ac09b9d3eba74539a5fb84bfd59f7f8f",
            "938cc55a13e34bb5b80208cbd46bcbd6",
            "7c52d4ffcef54f97b152a277ab4c81f2",
            "f78e4c9d38494db9911d1a6affa6f805",
            "de5cb84c0c4b4a5d9d8e046e274ab3ab",
            "7dd776b1233f465a80652e0698c1d966",
            "08ac2b2dd79f42b288bf4266d36bfe89",
            "22e2dda069bc4dcb8977c9db6458ae30",
            "f65edd2737c343fdbd2fc5511cf7fb0c",
            "19377587d2154c2db45eaf0500f51e54",
            "f7838ff741d9403698dfc78fe35c1d83"
          ]
        },
        "id": "de273b6d-0595-4ba2-99f1-688d8ecd1d47",
        "outputId": "1f22105a-13a7-462d-a8a1-098931cfb9c9"
      },
      "outputs": [
        {
          "data": {
            "application/vnd.jupyter.widget-view+json": {
              "model_id": "897c2480adcd41ed81d6b5398d07ddec",
              "version_major": 2,
              "version_minor": 0
            },
            "text/plain": [
              "Downloading builder script:   0%|          | 0.00/9.18k [00:00<?, ?B/s]"
            ]
          },
          "metadata": {},
          "output_type": "display_data"
        },
        {
          "data": {
            "application/vnd.jupyter.widget-view+json": {
              "model_id": "ac09b9d3eba74539a5fb84bfd59f7f8f",
              "version_major": 2,
              "version_minor": 0
            },
            "text/plain": [
              "Downloading extra modules:   0%|          | 0.00/6.10k [00:00<?, ?B/s]"
            ]
          },
          "metadata": {},
          "output_type": "display_data"
        }
      ],
      "source": [
        "from evaluate import load\n",
        "import os\n",
        "\n",
        "os.environ[\"HF_ALLOW_CODE_EVAL\"] = \"1\"\n",
        "code_eval = load(\"code_eval\")"
      ]
    },
    {
      "cell_type": "code",
      "execution_count": null,
      "id": "0fa646d7-14e8-427a-9356-4ac424eb2918",
      "metadata": {
        "colab": {
          "base_uri": "https://localhost:8080/"
        },
        "id": "0fa646d7-14e8-427a-9356-4ac424eb2918",
        "outputId": "7c49eedb-9df7-4df2-8bcd-418de6c85450"
      },
      "outputs": [
        {
          "name": "stderr",
          "output_type": "stream",
          "text": [
            "/usr/lib/python3.10/multiprocessing/popen_fork.py:66: RuntimeWarning: os.fork() was called. os.fork() is incompatible with multithreaded code, and JAX is multithreaded, so this will likely lead to a deadlock.\n",
            "  self.pid = os.fork()\n"
          ]
        },
        {
          "data": {
            "text/plain": [
              "({'pass@1': 1.0},\n",
              " defaultdict(list,\n",
              "             {0: [(0,\n",
              "                {'task_id': 0,\n",
              "                 'passed': True,\n",
              "                 'result': 'passed',\n",
              "                 'completion_id': 0})]}))"
            ]
          },
          "execution_count": 14,
          "metadata": {},
          "output_type": "execute_result"
        }
      ],
      "source": [
        "code_eval.compute(\n",
        "    references=[\"assert is_odd(5) == True\"],\n",
        "    predictions=[[\"def is_odd(n):\\n    return n & 1 != 0\"]],\n",
        "    k=[1],\n",
        ")"
      ]
    },
    {
      "cell_type": "markdown",
      "id": "af443ce8-e016-4a75-b2b3-94da848cd356",
      "metadata": {
        "id": "af443ce8-e016-4a75-b2b3-94da848cd356"
      },
      "source": [
        "- Step 3: Calculate accuracy rate across test cases"
      ]
    },
    {
      "cell_type": "code",
      "execution_count": null,
      "id": "685a9f88-52b9-4095-bf8c-f844d2049075",
      "metadata": {
        "colab": {
          "base_uri": "https://localhost:8080/"
        },
        "id": "685a9f88-52b9-4095-bf8c-f844d2049075",
        "outputId": "bdf08155-fea8-48b6-e37b-9a75d0970f90"
      },
      "outputs": [
        {
          "data": {
            "text/plain": [
              "{'pass@1': 1.0}"
            ]
          },
          "execution_count": 15,
          "metadata": {},
          "output_type": "execute_result"
        }
      ],
      "source": [
        "refs = []\n",
        "preds = []\n",
        "\n",
        "for name in python_prompts:\n",
        "\n",
        "    # define user message\n",
        "    user_message = prompt_template.format(\n",
        "        task=python_prompts[name][\"prompt\"], name=name\n",
        "    )\n",
        "\n",
        "    # run LLM\n",
        "    response = run_mistral(user_message)\n",
        "\n",
        "    refs.append(python_prompts[name][\"test\"])\n",
        "    preds.append([response])\n",
        "\n",
        "# evaluate code generation\n",
        "pass_at_1, results = code_eval.compute(references=refs, predictions=preds)\n",
        "\n",
        "pass_at_1"
      ]
    },
    {
      "cell_type": "markdown",
      "id": "5ca61dfc-1160-4f2c-9d0c-be3baed7764c",
      "metadata": {
        "id": "5ca61dfc-1160-4f2c-9d0c-be3baed7764c"
      },
      "source": [
        "# Example 3: evaluate summary generation with LLM"
      ]
    },
    {
      "cell_type": "code",
      "execution_count": null,
      "id": "3f5e70e3-fe8a-4796-a556-2b69277191df",
      "metadata": {
        "id": "3f5e70e3-fe8a-4796-a556-2b69277191df"
      },
      "outputs": [],
      "source": [
        "news = (\n",
        "    \"BRUSSELS (Reuters) - Theresa May looked despondent , with deep rings under her eyes, EU chief executive Jean-Claude Juncker told aides after dining with the British prime minister last week, a German newspaper said on Sunday. The report by a Frankfurter Allgemeine Zeitung correspondent whose leaked account of a Juncker-May dinner in April caused upset in London, said Juncker thought her marked by battles over Brexit with her own Conservative ministers as she asked for EU help to create more room for maneuver at home. No immediate comment was available from Juncker s office, which has a policy of not commenting on reports of meetings. The FAZ said May, who flew in for a hastily announced dinner in Brussels with the European Commission president last Monday ahead of an EU summit, seemed to Juncker anxious, despondent and disheartened , a woman who trusts hardly anyone but is also not ready for a clear-out to free herself . As she later did over dinner on Thursday with fellow EU leaders, May asked for help to overcome British divisions. She indicated that back home friend and foe are at her back plotting to bring her down, the paper said. May said she had no room left to maneuver. The Europeans have to create it for her. May s face and appearance spoke volumes, Juncker later told his colleagues, the FAZ added. She has deep rings under her eyes. She looks like someone who can t sleep a wink. She smiles for the cameras, it went on, but it looks forced , unlike in the past, when she could shake with laughter. Now she needs all her strength not to lose her poise. As with the April dinner at 10 Downing Street, when the FAZ reported that Juncker thought May in another galaxy in terms of Brexit expectations, both sides issued statements after last week s meeting saying talks were constructive and friendly . They said they agreed negotiations should be accelerated . May dismissed the dinner leak six months ago as Brussels gossip , though officials on both sides said the report in the FAZ did little to foster an atmosphere of trust which they agree will be important to reach a deal. German Chancellor Angela Merkel was also reported to have been irritated by that leak. Although the summit on Thursday and Friday rejected May s call for an immediate start to talks on the future relationship, leaders made a gesture to speed up the process and voiced hopes of opening a new phase in December. Some said they understood May s difficulties in forging consensus in London.\",\n",
        ")"
      ]
    },
    {
      "cell_type": "markdown",
      "id": "a7c7dcb1-aebe-417b-8046-90e7bdc09e40",
      "metadata": {
        "id": "a7c7dcb1-aebe-417b-8046-90e7bdc09e40"
      },
      "source": [
        "- Step 1: Generate summary for the given news"
      ]
    },
    {
      "cell_type": "code",
      "execution_count": null,
      "id": "8e83c322-445f-4608-9443-cbf9cdbe487c",
      "metadata": {
        "id": "8e83c322-445f-4608-9443-cbf9cdbe487c"
      },
      "outputs": [],
      "source": [
        "def run_mistral(user_message, model=\"open-mistral-7b\", is_json=False):\n",
        "    client = Mistral(api_key=api_key)\n",
        "    messages = [{\"role\":\"user\", \"content\":user_message}]\n",
        "\n",
        "    if is_json:\n",
        "        chat_response = client.chat.complete(\n",
        "            model=model, messages=messages, response_format={\"type\": \"json_object\"}\n",
        "        )\n",
        "    else:\n",
        "        chat_response = client.chat.complete(model=model, messages=messages)\n",
        "\n",
        "    return chat_response.choices[0].message.content"
      ]
    },
    {
      "cell_type": "code",
      "execution_count": null,
      "id": "ef46d23d-392b-4a54-822a-13ede737b3cf",
      "metadata": {
        "id": "ef46d23d-392b-4a54-822a-13ede737b3cf"
      },
      "outputs": [],
      "source": [
        "summary_prompt = f\"\"\"\n",
        "Summarize the following news. Write the summary based on the following criteria: relevancy and readability. Consider the sources cited, the quality of evidence provided, and any potential biases or misinformation.\n",
        "\n",
        "## News:\n",
        "{news}\n",
        "\"\"\""
      ]
    },
    {
      "cell_type": "code",
      "execution_count": null,
      "id": "ea400280-2e74-461c-8d40-7bcb5ea1ad2c",
      "metadata": {
        "id": "ea400280-2e74-461c-8d40-7bcb5ea1ad2c"
      },
      "outputs": [],
      "source": [
        "summary = run_mistral(summary_prompt)"
      ]
    },
    {
      "cell_type": "markdown",
      "id": "2368cef0-93f9-4e14-8cb0-ce27205a5420",
      "metadata": {
        "id": "2368cef0-93f9-4e14-8cb0-ce27205a5420"
      },
      "source": [
        "- Step 2: Define evaluation metrics and rubrics"
      ]
    },
    {
      "cell_type": "code",
      "execution_count": null,
      "id": "441a7ed7-0ad3-4d83-aaae-593711e140c5",
      "metadata": {
        "id": "441a7ed7-0ad3-4d83-aaae-593711e140c5"
      },
      "outputs": [],
      "source": [
        "eval_rubrics = [\n",
        "    {\n",
        "        \"metric\": \"relevancy\",\n",
        "        \"rubrics\": \"\"\"\n",
        "        Score 1: The summary is not relevant to the original text.\n",
        "        Score 2: The summary is somewhat relevant to the original text, but has significant flaws.\n",
        "        Score 3: The summary is mostly relevant to the original text, and effectively conveys its main ideas and arguments.\n",
        "        Score 4: The summary is highly relevant to the original text, and provides additional value or insight.\n",
        "        \"\"\",\n",
        "    },\n",
        "    {\n",
        "        \"metric\": \"readability\",\n",
        "        \"rubrics\": \"\"\"\n",
        "        Score 1: The summary is difficult to read and understand.\n",
        "        Score 2: The summary is somewhat readable, but has significant flaws.\n",
        "        Score 3: The summary is mostly readable and easy to understand.\n",
        "        Score 4: The summary is highly readable and engaging.\n",
        "        \"\"\",\n",
        "    },\n",
        "]"
      ]
    },
    {
      "cell_type": "markdown",
      "id": "ed068aac-73eb-461d-b441-ffc9b98393dd",
      "metadata": {
        "id": "ed068aac-73eb-461d-b441-ffc9b98393dd"
      },
      "source": [
        "- Step 3: Employ a more powerful LLM (e.g., Mistral Large) as a judge\n"
      ]
    },
    {
      "cell_type": "code",
      "execution_count": null,
      "id": "4ad10367-c8ee-4267-962c-e7e9197b27e2",
      "metadata": {
        "id": "4ad10367-c8ee-4267-962c-e7e9197b27e2"
      },
      "outputs": [],
      "source": [
        "scoring_prompt = \"\"\"\n",
        "Please read the provided news article and its corresponding summary.\n",
        "Based on the specified evaluation metric and rubrics, assign an integer score between 1 and 4 to the summary.\n",
        "Then, return a JSON object with the metric as the key and the evaluation score as the value.\n",
        "\n",
        "# Evaluation metric:\n",
        "{metric}\n",
        "\n",
        "# Evaluation rubrics:\n",
        "{rubrics}\n",
        "\n",
        "# News article\n",
        "{news}\n",
        "\n",
        "# Summary\n",
        "{summary}\n",
        "\n",
        "\"\"\""
      ]
    },
    {
      "cell_type": "code",
      "execution_count": null,
      "id": "f39d0204-5b2d-4236-9da9-bb90ded5f8fe",
      "metadata": {
        "colab": {
          "base_uri": "https://localhost:8080/"
        },
        "id": "f39d0204-5b2d-4236-9da9-bb90ded5f8fe",
        "outputId": "82771029-1521-408e-8993-a3376201c899"
      },
      "outputs": [
        {
          "name": "stdout",
          "output_type": "stream",
          "text": [
            "{\"relevancy\": 4}\n",
            "{\"readability\": 3}\n"
          ]
        }
      ],
      "source": [
        "for i in eval_rubrics:\n",
        "    eval_output = run_mistral(\n",
        "        scoring_prompt.format(\n",
        "            news=news, summary=summary, metric=i[\"metric\"], rubrics=i[\"rubrics\"]\n",
        "        ),\n",
        "        model=\"mistral-large-latest\",\n",
        "        is_json=True,\n",
        "    )\n",
        "    print(eval_output)"
      ]
    },
    {
      "cell_type": "code",
      "execution_count": null,
      "id": "xnMFcXf_jL9L",
      "metadata": {
        "id": "xnMFcXf_jL9L"
      },
      "outputs": [],
      "source": []
    }
  ],
  "metadata": {
    "colab": {
      "provenance": []
    },
    "kernelspec": {
      "display_name": "Python 3 (ipykernel)",
      "language": "python",
      "name": "python3"
    },
    "language_info": {
      "codemirror_mode": {
        "name": "ipython",
        "version": 3
      },
      "file_extension": ".py",
      "mimetype": "text/x-python",
      "name": "python",
      "nbconvert_exporter": "python",
      "pygments_lexer": "ipython3",
      "version": "3.11.8"
    },
    "widgets": {
      "application/vnd.jupyter.widget-state+json": {
        "08ac2b2dd79f42b288bf4266d36bfe89": {
          "model_module": "@jupyter-widgets/controls",
          "model_module_version": "1.5.0",
          "model_name": "DescriptionStyleModel",
          "state": {
            "_model_module": "@jupyter-widgets/controls",
            "_model_module_version": "1.5.0",
            "_model_name": "DescriptionStyleModel",
            "_view_count": null,
            "_view_module": "@jupyter-widgets/base",
            "_view_module_version": "1.2.0",
            "_view_name": "StyleView",
            "description_width": ""
          }
        },
        "09e115f947134ed08096c3a4b2f7a494": {
          "model_module": "@jupyter-widgets/base",
          "model_module_version": "1.2.0",
          "model_name": "LayoutModel",
          "state": {
            "_model_module": "@jupyter-widgets/base",
            "_model_module_version": "1.2.0",
            "_model_name": "LayoutModel",
            "_view_count": null,
            "_view_module": "@jupyter-widgets/base",
            "_view_module_version": "1.2.0",
            "_view_name": "LayoutView",
            "align_content": null,
            "align_items": null,
            "align_self": null,
            "border": null,
            "bottom": null,
            "display": null,
            "flex": null,
            "flex_flow": null,
            "grid_area": null,
            "grid_auto_columns": null,
            "grid_auto_flow": null,
            "grid_auto_rows": null,
            "grid_column": null,
            "grid_gap": null,
            "grid_row": null,
            "grid_template_areas": null,
            "grid_template_columns": null,
            "grid_template_rows": null,
            "height": null,
            "justify_content": null,
            "justify_items": null,
            "left": null,
            "margin": null,
            "max_height": null,
            "max_width": null,
            "min_height": null,
            "min_width": null,
            "object_fit": null,
            "object_position": null,
            "order": null,
            "overflow": null,
            "overflow_x": null,
            "overflow_y": null,
            "padding": null,
            "right": null,
            "top": null,
            "visibility": null,
            "width": null
          }
        },
        "19377587d2154c2db45eaf0500f51e54": {
          "model_module": "@jupyter-widgets/base",
          "model_module_version": "1.2.0",
          "model_name": "LayoutModel",
          "state": {
            "_model_module": "@jupyter-widgets/base",
            "_model_module_version": "1.2.0",
            "_model_name": "LayoutModel",
            "_view_count": null,
            "_view_module": "@jupyter-widgets/base",
            "_view_module_version": "1.2.0",
            "_view_name": "LayoutView",
            "align_content": null,
            "align_items": null,
            "align_self": null,
            "border": null,
            "bottom": null,
            "display": null,
            "flex": null,
            "flex_flow": null,
            "grid_area": null,
            "grid_auto_columns": null,
            "grid_auto_flow": null,
            "grid_auto_rows": null,
            "grid_column": null,
            "grid_gap": null,
            "grid_row": null,
            "grid_template_areas": null,
            "grid_template_columns": null,
            "grid_template_rows": null,
            "height": null,
            "justify_content": null,
            "justify_items": null,
            "left": null,
            "margin": null,
            "max_height": null,
            "max_width": null,
            "min_height": null,
            "min_width": null,
            "object_fit": null,
            "object_position": null,
            "order": null,
            "overflow": null,
            "overflow_x": null,
            "overflow_y": null,
            "padding": null,
            "right": null,
            "top": null,
            "visibility": null,
            "width": null
          }
        },
        "22e2dda069bc4dcb8977c9db6458ae30": {
          "model_module": "@jupyter-widgets/base",
          "model_module_version": "1.2.0",
          "model_name": "LayoutModel",
          "state": {
            "_model_module": "@jupyter-widgets/base",
            "_model_module_version": "1.2.0",
            "_model_name": "LayoutModel",
            "_view_count": null,
            "_view_module": "@jupyter-widgets/base",
            "_view_module_version": "1.2.0",
            "_view_name": "LayoutView",
            "align_content": null,
            "align_items": null,
            "align_self": null,
            "border": null,
            "bottom": null,
            "display": null,
            "flex": null,
            "flex_flow": null,
            "grid_area": null,
            "grid_auto_columns": null,
            "grid_auto_flow": null,
            "grid_auto_rows": null,
            "grid_column": null,
            "grid_gap": null,
            "grid_row": null,
            "grid_template_areas": null,
            "grid_template_columns": null,
            "grid_template_rows": null,
            "height": null,
            "justify_content": null,
            "justify_items": null,
            "left": null,
            "margin": null,
            "max_height": null,
            "max_width": null,
            "min_height": null,
            "min_width": null,
            "object_fit": null,
            "object_position": null,
            "order": null,
            "overflow": null,
            "overflow_x": null,
            "overflow_y": null,
            "padding": null,
            "right": null,
            "top": null,
            "visibility": null,
            "width": null
          }
        },
        "2935eaa872804c28a3e8ef017ba1cb3d": {
          "model_module": "@jupyter-widgets/controls",
          "model_module_version": "1.5.0",
          "model_name": "ProgressStyleModel",
          "state": {
            "_model_module": "@jupyter-widgets/controls",
            "_model_module_version": "1.5.0",
            "_model_name": "ProgressStyleModel",
            "_view_count": null,
            "_view_module": "@jupyter-widgets/base",
            "_view_module_version": "1.2.0",
            "_view_name": "StyleView",
            "bar_color": null,
            "description_width": ""
          }
        },
        "2a0b538418c04fc7b5262a7152866625": {
          "model_module": "@jupyter-widgets/controls",
          "model_module_version": "1.5.0",
          "model_name": "DescriptionStyleModel",
          "state": {
            "_model_module": "@jupyter-widgets/controls",
            "_model_module_version": "1.5.0",
            "_model_name": "DescriptionStyleModel",
            "_view_count": null,
            "_view_module": "@jupyter-widgets/base",
            "_view_module_version": "1.2.0",
            "_view_name": "StyleView",
            "description_width": ""
          }
        },
        "33784da3bd0b4c7084e7571a15e3774a": {
          "model_module": "@jupyter-widgets/base",
          "model_module_version": "1.2.0",
          "model_name": "LayoutModel",
          "state": {
            "_model_module": "@jupyter-widgets/base",
            "_model_module_version": "1.2.0",
            "_model_name": "LayoutModel",
            "_view_count": null,
            "_view_module": "@jupyter-widgets/base",
            "_view_module_version": "1.2.0",
            "_view_name": "LayoutView",
            "align_content": null,
            "align_items": null,
            "align_self": null,
            "border": null,
            "bottom": null,
            "display": null,
            "flex": null,
            "flex_flow": null,
            "grid_area": null,
            "grid_auto_columns": null,
            "grid_auto_flow": null,
            "grid_auto_rows": null,
            "grid_column": null,
            "grid_gap": null,
            "grid_row": null,
            "grid_template_areas": null,
            "grid_template_columns": null,
            "grid_template_rows": null,
            "height": null,
            "justify_content": null,
            "justify_items": null,
            "left": null,
            "margin": null,
            "max_height": null,
            "max_width": null,
            "min_height": null,
            "min_width": null,
            "object_fit": null,
            "object_position": null,
            "order": null,
            "overflow": null,
            "overflow_x": null,
            "overflow_y": null,
            "padding": null,
            "right": null,
            "top": null,
            "visibility": null,
            "width": null
          }
        },
        "3a7a56c8df224b4898313a821bb2f9dc": {
          "model_module": "@jupyter-widgets/controls",
          "model_module_version": "1.5.0",
          "model_name": "DescriptionStyleModel",
          "state": {
            "_model_module": "@jupyter-widgets/controls",
            "_model_module_version": "1.5.0",
            "_model_name": "DescriptionStyleModel",
            "_view_count": null,
            "_view_module": "@jupyter-widgets/base",
            "_view_module_version": "1.2.0",
            "_view_name": "StyleView",
            "description_width": ""
          }
        },
        "4ac76c090e2e4f7daee2e8f7a8e1a27e": {
          "model_module": "@jupyter-widgets/controls",
          "model_module_version": "1.5.0",
          "model_name": "HTMLModel",
          "state": {
            "_dom_classes": [],
            "_model_module": "@jupyter-widgets/controls",
            "_model_module_version": "1.5.0",
            "_model_name": "HTMLModel",
            "_view_count": null,
            "_view_module": "@jupyter-widgets/controls",
            "_view_module_version": "1.5.0",
            "_view_name": "HTMLView",
            "description": "",
            "description_tooltip": null,
            "layout": "IPY_MODEL_db9cb4d55adf4a56a165f713a1b14063",
            "placeholder": "​",
            "style": "IPY_MODEL_3a7a56c8df224b4898313a821bb2f9dc",
            "value": " 9.18k/9.18k [00:00&lt;00:00, 375kB/s]"
          }
        },
        "55a25246e1b04227964ec0788b8b4a25": {
          "model_module": "@jupyter-widgets/controls",
          "model_module_version": "1.5.0",
          "model_name": "FloatProgressModel",
          "state": {
            "_dom_classes": [],
            "_model_module": "@jupyter-widgets/controls",
            "_model_module_version": "1.5.0",
            "_model_name": "FloatProgressModel",
            "_view_count": null,
            "_view_module": "@jupyter-widgets/controls",
            "_view_module_version": "1.5.0",
            "_view_name": "ProgressView",
            "bar_style": "success",
            "description": "",
            "description_tooltip": null,
            "layout": "IPY_MODEL_33784da3bd0b4c7084e7571a15e3774a",
            "max": 9178,
            "min": 0,
            "orientation": "horizontal",
            "style": "IPY_MODEL_2935eaa872804c28a3e8ef017ba1cb3d",
            "value": 9178
          }
        },
        "7c52d4ffcef54f97b152a277ab4c81f2": {
          "model_module": "@jupyter-widgets/controls",
          "model_module_version": "1.5.0",
          "model_name": "FloatProgressModel",
          "state": {
            "_dom_classes": [],
            "_model_module": "@jupyter-widgets/controls",
            "_model_module_version": "1.5.0",
            "_model_name": "FloatProgressModel",
            "_view_count": null,
            "_view_module": "@jupyter-widgets/controls",
            "_view_module_version": "1.5.0",
            "_view_name": "ProgressView",
            "bar_style": "success",
            "description": "",
            "description_tooltip": null,
            "layout": "IPY_MODEL_22e2dda069bc4dcb8977c9db6458ae30",
            "max": 6102,
            "min": 0,
            "orientation": "horizontal",
            "style": "IPY_MODEL_f65edd2737c343fdbd2fc5511cf7fb0c",
            "value": 6102
          }
        },
        "7dd776b1233f465a80652e0698c1d966": {
          "model_module": "@jupyter-widgets/base",
          "model_module_version": "1.2.0",
          "model_name": "LayoutModel",
          "state": {
            "_model_module": "@jupyter-widgets/base",
            "_model_module_version": "1.2.0",
            "_model_name": "LayoutModel",
            "_view_count": null,
            "_view_module": "@jupyter-widgets/base",
            "_view_module_version": "1.2.0",
            "_view_name": "LayoutView",
            "align_content": null,
            "align_items": null,
            "align_self": null,
            "border": null,
            "bottom": null,
            "display": null,
            "flex": null,
            "flex_flow": null,
            "grid_area": null,
            "grid_auto_columns": null,
            "grid_auto_flow": null,
            "grid_auto_rows": null,
            "grid_column": null,
            "grid_gap": null,
            "grid_row": null,
            "grid_template_areas": null,
            "grid_template_columns": null,
            "grid_template_rows": null,
            "height": null,
            "justify_content": null,
            "justify_items": null,
            "left": null,
            "margin": null,
            "max_height": null,
            "max_width": null,
            "min_height": null,
            "min_width": null,
            "object_fit": null,
            "object_position": null,
            "order": null,
            "overflow": null,
            "overflow_x": null,
            "overflow_y": null,
            "padding": null,
            "right": null,
            "top": null,
            "visibility": null,
            "width": null
          }
        },
        "897c2480adcd41ed81d6b5398d07ddec": {
          "model_module": "@jupyter-widgets/controls",
          "model_module_version": "1.5.0",
          "model_name": "HBoxModel",
          "state": {
            "_dom_classes": [],
            "_model_module": "@jupyter-widgets/controls",
            "_model_module_version": "1.5.0",
            "_model_name": "HBoxModel",
            "_view_count": null,
            "_view_module": "@jupyter-widgets/controls",
            "_view_module_version": "1.5.0",
            "_view_name": "HBoxView",
            "box_style": "",
            "children": [
              "IPY_MODEL_8fafcb1df3a7458fa93476b21b56a835",
              "IPY_MODEL_55a25246e1b04227964ec0788b8b4a25",
              "IPY_MODEL_4ac76c090e2e4f7daee2e8f7a8e1a27e"
            ],
            "layout": "IPY_MODEL_09e115f947134ed08096c3a4b2f7a494"
          }
        },
        "8fafcb1df3a7458fa93476b21b56a835": {
          "model_module": "@jupyter-widgets/controls",
          "model_module_version": "1.5.0",
          "model_name": "HTMLModel",
          "state": {
            "_dom_classes": [],
            "_model_module": "@jupyter-widgets/controls",
            "_model_module_version": "1.5.0",
            "_model_name": "HTMLModel",
            "_view_count": null,
            "_view_module": "@jupyter-widgets/controls",
            "_view_module_version": "1.5.0",
            "_view_name": "HTMLView",
            "description": "",
            "description_tooltip": null,
            "layout": "IPY_MODEL_e82de0fb6ade4761976abe1e6247cba3",
            "placeholder": "​",
            "style": "IPY_MODEL_2a0b538418c04fc7b5262a7152866625",
            "value": "Downloading builder script: 100%"
          }
        },
        "938cc55a13e34bb5b80208cbd46bcbd6": {
          "model_module": "@jupyter-widgets/controls",
          "model_module_version": "1.5.0",
          "model_name": "HTMLModel",
          "state": {
            "_dom_classes": [],
            "_model_module": "@jupyter-widgets/controls",
            "_model_module_version": "1.5.0",
            "_model_name": "HTMLModel",
            "_view_count": null,
            "_view_module": "@jupyter-widgets/controls",
            "_view_module_version": "1.5.0",
            "_view_name": "HTMLView",
            "description": "",
            "description_tooltip": null,
            "layout": "IPY_MODEL_7dd776b1233f465a80652e0698c1d966",
            "placeholder": "​",
            "style": "IPY_MODEL_08ac2b2dd79f42b288bf4266d36bfe89",
            "value": "Downloading extra modules: 100%"
          }
        },
        "ac09b9d3eba74539a5fb84bfd59f7f8f": {
          "model_module": "@jupyter-widgets/controls",
          "model_module_version": "1.5.0",
          "model_name": "HBoxModel",
          "state": {
            "_dom_classes": [],
            "_model_module": "@jupyter-widgets/controls",
            "_model_module_version": "1.5.0",
            "_model_name": "HBoxModel",
            "_view_count": null,
            "_view_module": "@jupyter-widgets/controls",
            "_view_module_version": "1.5.0",
            "_view_name": "HBoxView",
            "box_style": "",
            "children": [
              "IPY_MODEL_938cc55a13e34bb5b80208cbd46bcbd6",
              "IPY_MODEL_7c52d4ffcef54f97b152a277ab4c81f2",
              "IPY_MODEL_f78e4c9d38494db9911d1a6affa6f805"
            ],
            "layout": "IPY_MODEL_de5cb84c0c4b4a5d9d8e046e274ab3ab"
          }
        },
        "db9cb4d55adf4a56a165f713a1b14063": {
          "model_module": "@jupyter-widgets/base",
          "model_module_version": "1.2.0",
          "model_name": "LayoutModel",
          "state": {
            "_model_module": "@jupyter-widgets/base",
            "_model_module_version": "1.2.0",
            "_model_name": "LayoutModel",
            "_view_count": null,
            "_view_module": "@jupyter-widgets/base",
            "_view_module_version": "1.2.0",
            "_view_name": "LayoutView",
            "align_content": null,
            "align_items": null,
            "align_self": null,
            "border": null,
            "bottom": null,
            "display": null,
            "flex": null,
            "flex_flow": null,
            "grid_area": null,
            "grid_auto_columns": null,
            "grid_auto_flow": null,
            "grid_auto_rows": null,
            "grid_column": null,
            "grid_gap": null,
            "grid_row": null,
            "grid_template_areas": null,
            "grid_template_columns": null,
            "grid_template_rows": null,
            "height": null,
            "justify_content": null,
            "justify_items": null,
            "left": null,
            "margin": null,
            "max_height": null,
            "max_width": null,
            "min_height": null,
            "min_width": null,
            "object_fit": null,
            "object_position": null,
            "order": null,
            "overflow": null,
            "overflow_x": null,
            "overflow_y": null,
            "padding": null,
            "right": null,
            "top": null,
            "visibility": null,
            "width": null
          }
        },
        "de5cb84c0c4b4a5d9d8e046e274ab3ab": {
          "model_module": "@jupyter-widgets/base",
          "model_module_version": "1.2.0",
          "model_name": "LayoutModel",
          "state": {
            "_model_module": "@jupyter-widgets/base",
            "_model_module_version": "1.2.0",
            "_model_name": "LayoutModel",
            "_view_count": null,
            "_view_module": "@jupyter-widgets/base",
            "_view_module_version": "1.2.0",
            "_view_name": "LayoutView",
            "align_content": null,
            "align_items": null,
            "align_self": null,
            "border": null,
            "bottom": null,
            "display": null,
            "flex": null,
            "flex_flow": null,
            "grid_area": null,
            "grid_auto_columns": null,
            "grid_auto_flow": null,
            "grid_auto_rows": null,
            "grid_column": null,
            "grid_gap": null,
            "grid_row": null,
            "grid_template_areas": null,
            "grid_template_columns": null,
            "grid_template_rows": null,
            "height": null,
            "justify_content": null,
            "justify_items": null,
            "left": null,
            "margin": null,
            "max_height": null,
            "max_width": null,
            "min_height": null,
            "min_width": null,
            "object_fit": null,
            "object_position": null,
            "order": null,
            "overflow": null,
            "overflow_x": null,
            "overflow_y": null,
            "padding": null,
            "right": null,
            "top": null,
            "visibility": null,
            "width": null
          }
        },
        "e82de0fb6ade4761976abe1e6247cba3": {
          "model_module": "@jupyter-widgets/base",
          "model_module_version": "1.2.0",
          "model_name": "LayoutModel",
          "state": {
            "_model_module": "@jupyter-widgets/base",
            "_model_module_version": "1.2.0",
            "_model_name": "LayoutModel",
            "_view_count": null,
            "_view_module": "@jupyter-widgets/base",
            "_view_module_version": "1.2.0",
            "_view_name": "LayoutView",
            "align_content": null,
            "align_items": null,
            "align_self": null,
            "border": null,
            "bottom": null,
            "display": null,
            "flex": null,
            "flex_flow": null,
            "grid_area": null,
            "grid_auto_columns": null,
            "grid_auto_flow": null,
            "grid_auto_rows": null,
            "grid_column": null,
            "grid_gap": null,
            "grid_row": null,
            "grid_template_areas": null,
            "grid_template_columns": null,
            "grid_template_rows": null,
            "height": null,
            "justify_content": null,
            "justify_items": null,
            "left": null,
            "margin": null,
            "max_height": null,
            "max_width": null,
            "min_height": null,
            "min_width": null,
            "object_fit": null,
            "object_position": null,
            "order": null,
            "overflow": null,
            "overflow_x": null,
            "overflow_y": null,
            "padding": null,
            "right": null,
            "top": null,
            "visibility": null,
            "width": null
          }
        },
        "f65edd2737c343fdbd2fc5511cf7fb0c": {
          "model_module": "@jupyter-widgets/controls",
          "model_module_version": "1.5.0",
          "model_name": "ProgressStyleModel",
          "state": {
            "_model_module": "@jupyter-widgets/controls",
            "_model_module_version": "1.5.0",
            "_model_name": "ProgressStyleModel",
            "_view_count": null,
            "_view_module": "@jupyter-widgets/base",
            "_view_module_version": "1.2.0",
            "_view_name": "StyleView",
            "bar_color": null,
            "description_width": ""
          }
        },
        "f7838ff741d9403698dfc78fe35c1d83": {
          "model_module": "@jupyter-widgets/controls",
          "model_module_version": "1.5.0",
          "model_name": "DescriptionStyleModel",
          "state": {
            "_model_module": "@jupyter-widgets/controls",
            "_model_module_version": "1.5.0",
            "_model_name": "DescriptionStyleModel",
            "_view_count": null,
            "_view_module": "@jupyter-widgets/base",
            "_view_module_version": "1.2.0",
            "_view_name": "StyleView",
            "description_width": ""
          }
        },
        "f78e4c9d38494db9911d1a6affa6f805": {
          "model_module": "@jupyter-widgets/controls",
          "model_module_version": "1.5.0",
          "model_name": "HTMLModel",
          "state": {
            "_dom_classes": [],
            "_model_module": "@jupyter-widgets/controls",
            "_model_module_version": "1.5.0",
            "_model_name": "HTMLModel",
            "_view_count": null,
            "_view_module": "@jupyter-widgets/controls",
            "_view_module_version": "1.5.0",
            "_view_name": "HTMLView",
            "description": "",
            "description_tooltip": null,
            "layout": "IPY_MODEL_19377587d2154c2db45eaf0500f51e54",
            "placeholder": "​",
            "style": "IPY_MODEL_f7838ff741d9403698dfc78fe35c1d83",
            "value": " 6.10k/6.10k [00:00&lt;00:00, 315kB/s]"
          }
        }
      }
    }
  },
  "nbformat": 4,
  "nbformat_minor": 5
}